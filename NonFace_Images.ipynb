{
  "cells": [
    {
      "cell_type": "markdown",
      "metadata": {
        "id": "view-in-github",
        "colab_type": "text"
      },
      "source": [
        "<a href=\"https://colab.research.google.com/github/ReemAbdelhaleemHassan/Face-Recognition/blob/main/NonFace_Images.ipynb\" target=\"_parent\"><img src=\"https://colab.research.google.com/assets/colab-badge.svg\" alt=\"Open In Colab\"/></a>"
      ]
    },
    {
      "cell_type": "code",
      "execution_count": null,
      "metadata": {
        "id": "hffNnptTr0Vl"
      },
      "outputs": [],
      "source": [
        "# Code to read file into Colaboratory:\n",
        "! pip install -U -q PyDrive\n",
        "from pydrive.auth import GoogleAuth\n",
        "from pydrive.drive import GoogleDrive\n",
        "from google.colab import auth\n",
        "from oauth2client.client import GoogleCredentials\n",
        "# Authenticate and create the PyDrive client.\n",
        "auth.authenticate_user()\n",
        "gauth = GoogleAuth()\n",
        "gauth.credentials = GoogleCredentials.get_application_default()\n",
        "drive = GoogleDrive(gauth)"
      ]
    },
    {
      "cell_type": "markdown",
      "metadata": {
        "id": "ch_GmAcsW2v5"
      },
      "source": [
        "## **Upload non-faces dataset**"
      ]
    },
    {
      "cell_type": "code",
      "execution_count": null,
      "metadata": {
        "id": "Q_ee4OfBr3bm"
      },
      "outputs": [],
      "source": [
        "link = 'https://drive.google.com/file/d/1csdpO4I9u7FGUD7CNxwEkQpIAqhiD5c_/view?usp=sharing' # The shareable link\n",
        "# to get the id part of the file\n",
        "id = link.split(\"/\")[-2]\n",
        "downloaded = drive.CreateFile({'id':id})\n",
        "downloaded.GetContentFile('non-face.zip')"
      ]
    },
    {
      "cell_type": "markdown",
      "metadata": {
        "id": "-7bl5ymjXAx4"
      },
      "source": [
        "## **Upload faces dataset**"
      ]
    },
    {
      "cell_type": "code",
      "execution_count": null,
      "metadata": {
        "id": "lC9B1V_Aa32H"
      },
      "outputs": [],
      "source": [
        "# upload CSV file from google drive\n",
        "link = 'https://drive.google.com/file/d/1Mb0WeDv0s1Y3K7f1-3Qp7iFUfFw6K_GF/view?usp=sharing' # The shareable link\n",
        "# to get the id part of the file\n",
        "id = link.split(\"/\")[-2]\n",
        "downloaded = drive.CreateFile({'id':id})\n",
        "downloaded.GetContentFile('archive.zip')"
      ]
    },
    {
      "cell_type": "markdown",
      "metadata": {
        "id": "UCZPpW7SXFeY"
      },
      "source": [
        "## **Zipping the datasets**"
      ]
    },
    {
      "cell_type": "code",
      "execution_count": null,
      "metadata": {
        "id": "mF5ZTnfAr02V"
      },
      "outputs": [],
      "source": [
        "! unzip non-face.zip -d non-faces\n",
        "! unzip archive.zip -d faces"
      ]
    },
    {
      "cell_type": "markdown",
      "metadata": {
        "id": "huiqp0sEXZg3"
      },
      "source": [
        "## **Imports**"
      ]
    },
    {
      "cell_type": "code",
      "execution_count": null,
      "metadata": {
        "id": "b5-ytzxzwQpN"
      },
      "outputs": [],
      "source": [
        "import numpy as np\n",
        "import cv2 as cv\n",
        "import os\n",
        "#from google.colab.patches import cv2_imshow # for image display\n",
        "#from skimage import io\n",
        "#from PIL import Image \n",
        "import matplotlib.pylab as plt\n",
        "import matplotlib.pyplot as plt1\n",
        "import math\n",
        "from sklearn.neighbors import KNeighborsClassifier\n",
        "from sklearn.metrics import accuracy_score\n",
        "from tabulate import tabulate\n",
        "from prettytable import PrettyTable\n",
        "from PIL import Image as im\n",
        "from sklearn.model_selection import train_test_split"
      ]
    },
    {
      "cell_type": "markdown",
      "metadata": {
        "id": "7WsfhTYaXbmA"
      },
      "source": [
        "## **Convert image to vector function**"
      ]
    },
    {
      "cell_type": "code",
      "execution_count": null,
      "metadata": {
        "id": "3lF1lpQ5rBbl"
      },
      "outputs": [],
      "source": [
        "def vectorizing(imagename):\n",
        "  img=cv.imread(imagename)\n",
        "  result = img[:, :, 0]\n",
        "  img_np = np.asarray(result)\n",
        "  img_np= img_np.flatten()\n",
        "  return img_np"
      ]
    },
    {
      "cell_type": "markdown",
      "metadata": {
        "id": "N7FRk9zlXjcn"
      },
      "source": [
        "## **Apply vectorizing on the datasets**"
      ]
    },
    {
      "cell_type": "code",
      "execution_count": null,
      "metadata": {
        "id": "D87F0Q65bBHY"
      },
      "outputs": [],
      "source": [
        "directory = os.fsencode(\"/content/faces/\")\n",
        "faces_dataset = []\n",
        "for file in sorted(os.listdir(directory)):\n",
        "      filename = os.fsdecode(file)\n",
        "      filename= \"/content/faces/\"+ filename +\"/\"\n",
        "      filenameV= os.fsencode(filename)\n",
        "      for image in os.listdir(filenameV):\n",
        "        imagename = os.fsdecode(image)\n",
        "        imagename= filename+imagename\n",
        "        faces_dataset.append(vectorizing(imagename))"
      ]
    },
    {
      "cell_type": "code",
      "execution_count": null,
      "metadata": {
        "id": "UbDLrDj-bZ_K"
      },
      "outputs": [],
      "source": [
        "directory = os.fsencode(\"/content/non-faces/\")\n",
        "non_faces_dataset = []\n",
        "for file in os.listdir(directory):\n",
        "      filename = os.fsdecode(file)\n",
        "      filename= \"/content/non-faces/\"+ filename +\"/\"\n",
        "      filenameV= os.fsencode(filename)\n",
        "      for image in os.listdir(filenameV):\n",
        "        imagename = os.fsdecode(image)\n",
        "        imagename= filename+imagename\n",
        "        non_faces_dataset.append(vectorizing(imagename))"
      ]
    },
    {
      "cell_type": "markdown",
      "metadata": {
        "id": "E7UcaxZ_XsHY"
      },
      "source": [
        "## **Generate labels vector**"
      ]
    },
    {
      "cell_type": "code",
      "execution_count": null,
      "metadata": {
        "id": "XQ2lrG3ZYZNx"
      },
      "outputs": [],
      "source": [
        "# 0--> non-face and 1-->face\n",
        "labels = []\n",
        "for i in range(850):\n",
        "  if i < 400:\n",
        "    labels.append(1)\n",
        "  else:\n",
        "    labels.append(0)"
      ]
    },
    {
      "cell_type": "markdown",
      "metadata": {
        "id": "VzhgwkHgXysh"
      },
      "source": [
        "## **Convert datasets to NumPy (n,d)**"
      ]
    },
    {
      "cell_type": "code",
      "execution_count": null,
      "metadata": {
        "colab": {
          "base_uri": "https://localhost:8080/"
        },
        "id": "YRNMuuzTw39O",
        "outputId": "ff48d8ea-9fdd-4545-9571-aa30e939121e"
      },
      "outputs": [
        {
          "output_type": "stream",
          "name": "stdout",
          "text": [
            "(450, 10304)\n",
            "(400, 10304)\n",
            "(850, 1)\n"
          ]
        }
      ],
      "source": [
        "non_faces_dataset = np.array(non_faces_dataset)\n",
        "faces_dataset = np.array(faces_dataset)\n",
        "labels = np.array([labels]).transpose()\n",
        "print(non_faces_dataset.shape)\n",
        "print(faces_dataset.shape)\n",
        "print(labels.shape)"
      ]
    },
    {
      "cell_type": "markdown",
      "metadata": {
        "id": "duoH-fs_17Nk"
      },
      "source": [
        "## **Concatenate into one dataset**"
      ]
    },
    {
      "cell_type": "code",
      "execution_count": null,
      "metadata": {
        "colab": {
          "base_uri": "https://localhost:8080/"
        },
        "id": "iaUSHhwiqCr2",
        "outputId": "c6952ac6-c6ab-4386-ca43-960609dd7edb"
      },
      "outputs": [
        {
          "output_type": "stream",
          "name": "stdout",
          "text": [
            "(850, 10304)\n"
          ]
        }
      ],
      "source": [
        "dataset = np.concatenate((faces_dataset,non_faces_dataset))\n",
        "print(dataset.shape)"
      ]
    },
    {
      "cell_type": "markdown",
      "metadata": {
        "id": "AyHeHFMI1oTk"
      },
      "source": [
        "## **Splitting Function**"
      ]
    },
    {
      "cell_type": "code",
      "execution_count": null,
      "metadata": {
        "id": "JcZTBu6sq4GG"
      },
      "outputs": [],
      "source": [
        "def split(dataset,labels,ratio=0.3):\n",
        "  train_features, test_features, train_labels, test_labels = train_test_split(dataset, labels, test_size=ratio, random_state=42,stratify=labels)\n",
        "  return train_features, test_features, train_labels, test_labels"
      ]
    },
    {
      "cell_type": "markdown",
      "metadata": {
        "id": "plXfjiNLZBnQ"
      },
      "source": [
        "## **PCA**"
      ]
    },
    {
      "cell_type": "code",
      "execution_count": null,
      "metadata": {
        "id": "W8alhZk3h7cX"
      },
      "outputs": [],
      "source": [
        "def pca(dataset,alpha):\n",
        "  mean=dataset.mean(axis=0)\n",
        "  Z=dataset-mean\n",
        "  cov=np.cov(Z,rowvar=False,bias=False)\n",
        "  eigen_values,eigen_vectors=np.linalg.eigh(cov)\n",
        "  r=0\n",
        "  sum=0.0\n",
        "  n=len(eigen_values)\n",
        "  eigen_values_sum=math.fsum(eigen_values)\n",
        "  for i in reversed(range(n)):\n",
        "    sum=sum+eigen_values[i]\n",
        "    tolerance=float(sum/eigen_values_sum)\n",
        "    if tolerance>=alpha:\n",
        "      r=i\n",
        "      break\n",
        "  P=eigen_vectors[:,r:n]\n",
        "  return P"
      ]
    },
    {
      "cell_type": "markdown",
      "metadata": {
        "id": "RrNWnNo7ZJMJ"
      },
      "source": [
        "## **Projection function**"
      ]
    },
    {
      "cell_type": "code",
      "execution_count": null,
      "metadata": {
        "id": "7vttUAVZh8HP"
      },
      "outputs": [],
      "source": [
        "def projection(features,P):\n",
        "  features=features-features.mean(axis=0)\n",
        "  projected_features=np.dot(features,P)\n",
        "  return projected_features"
      ]
    },
    {
      "cell_type": "markdown",
      "metadata": {
        "id": "gFfzjKJ0Zl05"
      },
      "source": [
        "## **KNN Classifier**"
      ]
    },
    {
      "cell_type": "code",
      "execution_count": null,
      "metadata": {
        "id": "siDhWLpOR-yZ"
      },
      "outputs": [],
      "source": [
        "def knn(train_features,train_labels,k):\n",
        "  clf = KNeighborsClassifier(n_neighbors=k)\n",
        "  clf.fit(train_features,train_labels.ravel())\n",
        "  return clf"
      ]
    },
    {
      "cell_type": "code",
      "execution_count": null,
      "metadata": {
        "id": "itreaNVwh_0_"
      },
      "outputs": [],
      "source": [
        "def get_accuracy(clf,test_features,test_labels):\n",
        "  predicition  = clf.predict(test_features)\n",
        "  acc = accuracy_score(predicition,test_labels)\n",
        "  return acc"
      ]
    },
    {
      "cell_type": "markdown",
      "metadata": {
        "id": "Ua78s0HkZt4B"
      },
      "source": [
        "## **Apply PCA on full Dataset with Alpha=0.95 and k=1**\n",
        "\n"
      ]
    },
    {
      "cell_type": "code",
      "execution_count": null,
      "metadata": {
        "id": "b_jn0qVJiWHa"
      },
      "outputs": [],
      "source": [
        "train_features, test_features, train_labels, test_labels = split(dataset,labels)\n",
        "projection_matrix = pca(train_features,0.95)"
      ]
    },
    {
      "cell_type": "code",
      "execution_count": null,
      "metadata": {
        "id": "TXHnkb6mitGa"
      },
      "outputs": [],
      "source": [
        "projected_train_features = projection(train_features,projection_matrix)\n",
        "projected_test_features = projection(test_features,projection_matrix)"
      ]
    },
    {
      "cell_type": "markdown",
      "metadata": {
        "id": "kdeD7RVh__Bc"
      },
      "source": [
        "## **With 400 faces and 450 non-faces samples**"
      ]
    },
    {
      "cell_type": "code",
      "execution_count": null,
      "metadata": {
        "colab": {
          "base_uri": "https://localhost:8080/"
        },
        "id": "lbOhUacj-U9N",
        "outputId": "cc8579d5-7d8c-4e3d-d74a-e571bd40eb2b"
      },
      "outputs": [
        {
          "name": "stdout",
          "output_type": "stream",
          "text": [
            "0.9254901960784314\n",
            "200\n"
          ]
        }
      ],
      "source": [
        "clf = knn(projected_train_features,train_labels,1)\n",
        "acc = get_accuracy(clf,projected_test_features,test_labels)\n",
        "r = projected_train_features.shape[1]\n",
        "print(acc)\n",
        "print(r)"
      ]
    },
    {
      "cell_type": "markdown",
      "metadata": {
        "id": "gzAWUW2r-CLF"
      },
      "source": [
        "## **To record the accuracies and R satisfying alpha=0.95**"
      ]
    },
    {
      "cell_type": "code",
      "execution_count": null,
      "metadata": {
        "id": "LLSvgG_e75Oc"
      },
      "outputs": [],
      "source": [
        "acc_list = []\n",
        "r_list = []"
      ]
    },
    {
      "cell_type": "markdown",
      "metadata": {
        "id": "X9GGfRsYByVT"
      },
      "source": [
        "## **With 400 faces and 100 non-faces samples**"
      ]
    },
    {
      "cell_type": "code",
      "execution_count": null,
      "metadata": {
        "colab": {
          "base_uri": "https://localhost:8080/"
        },
        "id": "7Fu4AIkRANJL",
        "outputId": "b1d5637b-da03-46e6-af29-07cc5946f90e"
      },
      "outputs": [
        {
          "name": "stdout",
          "output_type": "stream",
          "text": [
            "0.9533333333333334\n",
            "153\n"
          ]
        }
      ],
      "source": [
        "# slice non-faces dataset\n",
        "d1 = np.concatenate((faces_dataset,non_faces_dataset[0:100]))\n",
        "l1 = labels[0:500]\n",
        "# split into train and test sets \n",
        "train_features, test_features, train_labels, test_labels = split(d1,l1)\n",
        "\n",
        "# get the projection matrix computed using PCA\n",
        "projection_matrix = pca(train_features,0.95)\n",
        "\n",
        "# project the train and test sets on the projection matrix\n",
        "projected_train_features = projection(train_features,projection_matrix)\n",
        "projected_test_features = projection(test_features,projection_matrix)\n",
        "\n",
        "# use knn classifier\n",
        "clf = knn(projected_train_features,train_labels,1)\n",
        "\n",
        "# store the results\n",
        "acc_list.append(get_accuracy(clf,projected_test_features,test_labels))\n",
        "r_list.append(projected_train_features.shape[1])\n",
        "\n",
        "print(acc_list[-1]) \n",
        "print(r_list[-1]) "
      ]
    },
    {
      "cell_type": "markdown",
      "metadata": {
        "id": "wGZ_H1ezGFAr"
      },
      "source": [
        "## **With 400 faces and 150 non-faces samples**"
      ]
    },
    {
      "cell_type": "code",
      "execution_count": null,
      "metadata": {
        "colab": {
          "base_uri": "https://localhost:8080/"
        },
        "id": "f0hlY7iCGEGs",
        "outputId": "a58aa9e3-5181-4f00-cd14-14bae24eec2b"
      },
      "outputs": [
        {
          "name": "stdout",
          "output_type": "stream",
          "text": [
            "0.9272727272727272\n",
            "149\n"
          ]
        }
      ],
      "source": [
        "# slice non-faces dataset\n",
        "d2 = np.concatenate((faces_dataset,non_faces_dataset[0:150]))\n",
        "l2 = labels[0:550]\n",
        "# split into train and test sets \n",
        "train_features, test_features, train_labels, test_labels = split(d2,l2)\n",
        "\n",
        "# get the projection matrix computed using PCA\n",
        "projection_matrix = pca(train_features,0.95)\n",
        "\n",
        "# project the train and test sets on the projection matrix\n",
        "projected_train_features = projection(train_features,projection_matrix)\n",
        "projected_test_features = projection(test_features,projection_matrix)\n",
        "\n",
        "# use knn classifier\n",
        "clf = knn(projected_train_features,train_labels,1)\n",
        "\n",
        "# store the results\n",
        "acc_list.append(get_accuracy(clf,projected_test_features,test_labels))\n",
        "r_list.append(projected_train_features.shape[1])\n",
        "\n",
        "print(acc_list[-1]) \n",
        "print(r_list[-1]) "
      ]
    },
    {
      "cell_type": "markdown",
      "metadata": {
        "id": "Sa8QOKkmImt6"
      },
      "source": [
        "## **With 400 faces and 200 non-faces samples**\n",
        "\n"
      ]
    },
    {
      "cell_type": "code",
      "execution_count": null,
      "metadata": {
        "colab": {
          "base_uri": "https://localhost:8080/"
        },
        "id": "SOULdkXaIAS0",
        "outputId": "e7642e26-8e4d-47ce-dc4c-cfbafceaa8da"
      },
      "outputs": [
        {
          "name": "stdout",
          "output_type": "stream",
          "text": [
            "0.9388888888888889\n",
            "162\n"
          ]
        }
      ],
      "source": [
        "# slice non-faces dataset\n",
        "d3 = np.concatenate((faces_dataset,non_faces_dataset[0:200]))\n",
        "l3 = labels[0:600]\n",
        "# split into train and test sets \n",
        "train_features, test_features, train_labels, test_labels = split(d3,l3)\n",
        "\n",
        "# get the projection matrix computed using PCA\n",
        "projection_matrix = pca(train_features,0.95)\n",
        "\n",
        "# project the train and test sets on the projection matrix\n",
        "projected_train_features = projection(train_features,projection_matrix)\n",
        "projected_test_features = projection(test_features,projection_matrix)\n",
        "\n",
        "# use knn classifier\n",
        "clf = knn(projected_train_features,train_labels,1)\n",
        "\n",
        "# store the results\n",
        "acc_list.append(get_accuracy(clf,projected_test_features,test_labels))\n",
        "r_list.append(projected_train_features.shape[1])\n",
        "\n",
        "print(acc_list[-1]) \n",
        "print(r_list[-1])"
      ]
    },
    {
      "cell_type": "markdown",
      "metadata": {
        "id": "gXtx_TFNI6Ow"
      },
      "source": [
        "## **With 400 faces and 250 non-faces samples**\n",
        "\n"
      ]
    },
    {
      "cell_type": "code",
      "execution_count": null,
      "metadata": {
        "colab": {
          "base_uri": "https://localhost:8080/"
        },
        "id": "uvIe0HoCI6Ox",
        "outputId": "aecadf52-3d3c-4a45-ae70-201f86db43cb"
      },
      "outputs": [
        {
          "name": "stdout",
          "output_type": "stream",
          "text": [
            "0.958974358974359\n",
            "168\n"
          ]
        }
      ],
      "source": [
        "# slice non-faces dataset\n",
        "d4 = np.concatenate((faces_dataset,non_faces_dataset[0:250]))\n",
        "l4 = labels[0:650]\n",
        "# split into train and test sets \n",
        "train_features, test_features, train_labels, test_labels = split(d4,l4)\n",
        "\n",
        "# get the projection matrix computed using PCA\n",
        "projection_matrix = pca(train_features,0.95)\n",
        "\n",
        "# project the train and test sets on the projection matrix\n",
        "projected_train_features = projection(train_features,projection_matrix)\n",
        "projected_test_features = projection(test_features,projection_matrix)\n",
        "\n",
        "# use knn classifier\n",
        "clf = knn(projected_train_features,train_labels,1)\n",
        "\n",
        "# store the results\n",
        "acc_list.append(get_accuracy(clf,projected_test_features,test_labels))\n",
        "r_list.append(projected_train_features.shape[1])\n",
        "\n",
        "print(acc_list[-1]) \n",
        "print(r_list[-1])"
      ]
    },
    {
      "cell_type": "markdown",
      "metadata": {
        "id": "3ZzKlXffJKsD"
      },
      "source": [
        "## **With 400 faces and 300 non-faces samples**\n",
        "\n"
      ]
    },
    {
      "cell_type": "code",
      "execution_count": null,
      "metadata": {
        "colab": {
          "base_uri": "https://localhost:8080/"
        },
        "id": "UW4xo1wpJKsD",
        "outputId": "f0dc1b13-45f0-4abc-b25f-ba16d8ebfb28"
      },
      "outputs": [
        {
          "name": "stdout",
          "output_type": "stream",
          "text": [
            "0.9142857142857143\n",
            "177\n"
          ]
        }
      ],
      "source": [
        "# slice non-faces dataset\n",
        "d5 = np.concatenate((faces_dataset,non_faces_dataset[0:300]))\n",
        "l5 = labels[0:700]\n",
        "# split into train and test sets \n",
        "train_features, test_features, train_labels, test_labels = split(d5,l5)\n",
        "\n",
        "# get the projection matrix computed using PCA\n",
        "projection_matrix = pca(train_features,0.95)\n",
        "\n",
        "# project the train and test sets on the projection matrix\n",
        "projected_train_features = projection(train_features,projection_matrix)\n",
        "projected_test_features = projection(test_features,projection_matrix)\n",
        "\n",
        "# use knn classifier\n",
        "clf = knn(projected_train_features,train_labels,1)\n",
        "\n",
        "# store the results\n",
        "acc_list.append(get_accuracy(clf,projected_test_features,test_labels))\n",
        "r_list.append(projected_train_features.shape[1])\n",
        "\n",
        "print(acc_list[-1]) \n",
        "print(r_list[-1])"
      ]
    },
    {
      "cell_type": "markdown",
      "metadata": {
        "id": "dM1dXO6FJY0c"
      },
      "source": [
        "## **With 400 faces and 350 non-faces samples**\n",
        "\n"
      ]
    },
    {
      "cell_type": "code",
      "execution_count": null,
      "metadata": {
        "colab": {
          "base_uri": "https://localhost:8080/"
        },
        "id": "IwCUPicZJY0d",
        "outputId": "f5d5db62-2cf5-4af7-c98a-f9582b6c89be"
      },
      "outputs": [
        {
          "name": "stdout",
          "output_type": "stream",
          "text": [
            "0.9422222222222222\n",
            "181\n"
          ]
        }
      ],
      "source": [
        "# slice non-faces dataset\n",
        "d6 = np.concatenate((faces_dataset,non_faces_dataset[0:350]))\n",
        "l6 = labels[0:750]\n",
        "# split into train and test sets \n",
        "train_features, test_features, train_labels, test_labels = split(d6,l6)\n",
        "\n",
        "# get the projection matrix computed using PCA\n",
        "projection_matrix = pca(train_features,0.95)\n",
        "\n",
        "# project the train and test sets on the projection matrix\n",
        "projected_train_features = projection(train_features,projection_matrix)\n",
        "projected_test_features = projection(test_features,projection_matrix)\n",
        "\n",
        "# use knn classifier\n",
        "clf = knn(projected_train_features,train_labels,1)\n",
        "\n",
        "# store the results\n",
        "acc_list.append(get_accuracy(clf,projected_test_features,test_labels))\n",
        "r_list.append(projected_train_features.shape[1])\n",
        "\n",
        "print(acc_list[-1]) \n",
        "print(r_list[-1])"
      ]
    },
    {
      "cell_type": "markdown",
      "metadata": {
        "id": "ANrRBxSuJmOn"
      },
      "source": [
        "## **With 400 faces and 400 non-faces samples**\n",
        "\n"
      ]
    },
    {
      "cell_type": "code",
      "execution_count": null,
      "metadata": {
        "colab": {
          "base_uri": "https://localhost:8080/"
        },
        "id": "LxrslN7QJmOn",
        "outputId": "c0042d25-ed2a-4dea-af53-bf2548ba9f7d"
      },
      "outputs": [
        {
          "name": "stdout",
          "output_type": "stream",
          "text": [
            "0.9333333333333333\n",
            "190\n"
          ]
        }
      ],
      "source": [
        "# slice non-faces dataset\n",
        "d7 = np.concatenate((faces_dataset,non_faces_dataset[0:400]))\n",
        "l7 = labels[0:800]\n",
        "# split into train and test sets \n",
        "train_features, test_features, train_labels, test_labels = split(d7,l7)\n",
        "\n",
        "# get the projection matrix computed using PCA\n",
        "projection_matrix = pca(train_features,0.95)\n",
        "\n",
        "# project the train and test sets on the projection matrix\n",
        "projected_train_features = projection(train_features,projection_matrix)\n",
        "projected_test_features = projection(test_features,projection_matrix)\n",
        "\n",
        "# use knn classifier\n",
        "clf = knn(projected_train_features,train_labels,1)\n",
        "\n",
        "# store the results\n",
        "acc_list.append(get_accuracy(clf,projected_test_features,test_labels))\n",
        "r_list.append(projected_train_features.shape[1])\n",
        "\n",
        "print(acc_list[-1]) \n",
        "print(r_list[-1])"
      ]
    },
    {
      "cell_type": "markdown",
      "metadata": {
        "id": "_LgPpcMcQR5t"
      },
      "source": [
        "## **With 400 faces and 450 non-faces samples**\n",
        "\n"
      ]
    },
    {
      "cell_type": "code",
      "execution_count": null,
      "metadata": {
        "colab": {
          "base_uri": "https://localhost:8080/"
        },
        "id": "Dznz7FSYQR5z",
        "outputId": "ae128819-a66e-4be1-cd6c-ad91acde1c80"
      },
      "outputs": [
        {
          "name": "stdout",
          "output_type": "stream",
          "text": [
            "0.9254901960784314\n",
            "200\n"
          ]
        }
      ],
      "source": [
        "# slice non-faces dataset\n",
        "d8 = np.concatenate((faces_dataset,non_faces_dataset[0:450]))\n",
        "l8 = labels[0:850]\n",
        "# split into train and test sets \n",
        "train_features, test_features, train_labels, test_labels = split(d8,l8)\n",
        "\n",
        "# get the projection matrix computed using PCA\n",
        "projection_matrix = pca(train_features,0.95)\n",
        "\n",
        "# project the train and test sets on the projection matrix\n",
        "projected_train_features = projection(train_features,projection_matrix)\n",
        "projected_test_features = projection(test_features,projection_matrix)\n",
        "\n",
        "# use knn classifier\n",
        "clf = knn(projected_train_features,train_labels,1)\n",
        "\n",
        "# store the results\n",
        "acc_list.append(get_accuracy(clf,projected_test_features,test_labels))\n",
        "r_list.append(projected_train_features.shape[1])\n",
        "\n",
        "print(acc_list[-1]) \n",
        "print(r_list[-1])"
      ]
    },
    {
      "cell_type": "markdown",
      "metadata": {
        "id": "9BoJfcjwRDnN"
      },
      "source": [
        "## **Plot Accuracy vs number of non-faces samples in the dataset**"
      ]
    },
    {
      "cell_type": "code",
      "execution_count": null,
      "metadata": {
        "colab": {
          "base_uri": "https://localhost:8080/",
          "height": 279
        },
        "id": "hwf-nyVMPbwF",
        "outputId": "25573ac7-23d7-4529-9eed-95cbdc34830c"
      },
      "outputs": [
        {
          "data": {
            "image/png": "[encoded data removed]",
            "text/plain": [
              "<Figure size 432x288 with 1 Axes>"
            ]
          },
          "metadata": {},
          "output_type": "display_data"
        }
      ],
      "source": [
        "ranges = [100,150,200,250,300,350,400,450]\n",
        "plt.plot(ranges, acc_list,color='green', linestyle='dashed', linewidth = 3,marker='o', markerfacecolor='blue', markersize=12)\n",
        "plt.xlabel('number of non-faces samples')\n",
        "plt.ylabel('accuracy')\n",
        "plt.show()"
      ]
    },
    {
      "cell_type": "markdown",
      "metadata": {
        "id": "6kzAXVIjWNn7"
      },
      "source": [
        "## **Plot R vs number of non-faces samples in the dataset**"
      ]
    },
    {
      "cell_type": "code",
      "execution_count": null,
      "metadata": {
        "colab": {
          "base_uri": "https://localhost:8080/",
          "height": 279
        },
        "id": "rfF09azJTZta",
        "outputId": "7cdb3e3d-f738-4ff8-ea45-4351e05b8fb3"
      },
      "outputs": [
        {
          "data": {
            "image/png": "[encoded data removed]",
            "text/plain": [
              "<Figure size 432x288 with 1 Axes>"
            ]
          },
          "metadata": {},
          "output_type": "display_data"
        }
      ],
      "source": [
        "plt.plot(ranges, r_list,color='green', linestyle='dashed', linewidth = 3,marker='o', markerfacecolor='blue', markersize=12)\n",
        "plt.xlabel('number of non-faces samples')\n",
        "plt.ylabel('R')\n",
        "plt.show()"
      ]
    },
    {
      "cell_type": "code",
      "execution_count": null,
      "metadata": {
        "id": "999r3LkPRoKg"
      },
      "outputs": [],
      "source": [
        "def get_length(labels):\n",
        "  sum_0 = 0\n",
        "  sum_1 = 0\n",
        "  for i in labels:\n",
        "    if i==0:\n",
        "      sum_0+=1\n",
        "    else:\n",
        "      sum_1 +=1\n",
        "  return sum_0,sum_1"
      ]
    },
    {
      "cell_type": "markdown",
      "metadata": {
        "id": "kDhOD5PjZ49w"
      },
      "source": [
        "## **LDA**"
      ]
    },
    {
      "cell_type": "code",
      "execution_count": null,
      "metadata": {
        "id": "jieltbDUqSqz"
      },
      "outputs": [],
      "source": [
        "def lda_2(train_features,labels):\n",
        "  n1,n2 = get_length(labels)\n",
        "  Stotal=np.zeros(shape=(train_features.shape[1],train_features.shape[1]))\n",
        "  mean_1 = np.mean(train_features[0:n1],axis=0)          # (10304,0)\n",
        "  mean_2 = np.mean(train_features[n1:n1+n2],axis=0)        # (10304,0)\n",
        "  Z1 = train_features[0:n1] - mean_1\n",
        "  Z2 = train_features[n1:n1+n2] - mean_2\n",
        "  m = mean_1 - mean_2\n",
        "  m = np.reshape(m, (train_features.shape[1], 1))\n",
        "  B = np.dot(m,m.transpose())                             #\n",
        "  S1 = np.dot(Z1.transpose(),Z1)\n",
        "  S2 = np.dot(Z2.transpose(),Z2)\n",
        "  Stotal = S1 + S2\n",
        "  eigen_val,eigen_vec = np.linalg.eigh(np.linalg.inv(Stotal).dot(B))\n",
        "  return eigen_vec[:,-1]"
      ]
    },
    {
      "cell_type": "markdown",
      "metadata": {
        "id": "dhjcQx-IaPHA"
      },
      "source": [
        "## **Apply LDA on dataset with 400 faces and 100 non-faces samples**"
      ]
    },
    {
      "cell_type": "code",
      "execution_count": null,
      "metadata": {
        "colab": {
          "base_uri": "https://localhost:8080/"
        },
        "id": "InCNh-0k6po9",
        "outputId": "0649ccc7-0176-430e-e1b3-44936aaa6c56"
      },
      "outputs": [
        {
          "output_type": "stream",
          "name": "stdout",
          "text": [
            "0.82\n",
            "1\n"
          ]
        }
      ],
      "source": [
        "# slice non-faces dataset\n",
        "d1 = np.concatenate((faces_dataset,non_faces_dataset[0:100]))\n",
        "l1 = labels[0:500]\n",
        "\n",
        "# split into train and test sets \n",
        "train_features, test_features, train_labels, test_labels = split(d1,l1)\n",
        "\n",
        "# get the projection matrix computed using LDA\n",
        "projection_matrix = lda_2(train_features,train_labels)\n",
        "\n",
        "# reshaping the projection matrix\n",
        "projection_matrix=np.reshape(projection_matrix, (10304, 1))\n",
        "\n",
        "# project the train and test sets on the projection matrix\n",
        "projected_train_features = projection(train_features,projection_matrix)\n",
        "projected_test_features = projection(test_features,projection_matrix)\n",
        "\n",
        "# use knn classifier\n",
        "clf = knn(projected_train_features,train_labels,1)\n",
        "\n",
        "# store the results\n",
        "acc_list.append(get_accuracy(clf,projected_test_features,test_labels))\n",
        "r_list.append(projected_train_features.shape[1])\n",
        "\n",
        "print(acc_list[-1]) \n",
        "print(r_list[-1])"
      ]
    },
    {
      "cell_type": "markdown",
      "metadata": {
        "id": "GjCL_nlx4KYo"
      },
      "source": [
        "## **Apply LDA on dataset with 400 faces and 150 non-faces samples**"
      ]
    },
    {
      "cell_type": "code",
      "execution_count": null,
      "metadata": {
        "id": "uofDzc6L4KYu",
        "colab": {
          "base_uri": "https://localhost:8080/"
        },
        "outputId": "3d5e5ed1-73ef-4f46-9d36-71ec02252194"
      },
      "outputs": [
        {
          "output_type": "stream",
          "name": "stdout",
          "text": [
            "0.8363636363636363\n",
            "1\n"
          ]
        }
      ],
      "source": [
        "# slice non-faces dataset\n",
        "d2 = np.concatenate((faces_dataset,non_faces_dataset[0:150]))\n",
        "l2 = labels[0:550]\n",
        "\n",
        "# split into train and test sets \n",
        "train_features, test_features, train_labels, test_labels = split(d2,l2)\n",
        "\n",
        "# get the projection matrix computed using LDA\n",
        "projection_matrix = lda_2(train_features,train_labels)\n",
        "\n",
        "# reshaping the projection matrix\n",
        "projection_matrix=np.reshape(projection_matrix, (10304, 1))\n",
        "\n",
        "# project the train and test sets on the projection matrix\n",
        "projected_train_features = projection(train_features,projection_matrix)\n",
        "projected_test_features = projection(test_features,projection_matrix)\n",
        "\n",
        "# use knn classifier\n",
        "clf = knn(projected_train_features,train_labels,1)\n",
        "\n",
        "# store the results\n",
        "acc_list.append(get_accuracy(clf,projected_test_features,test_labels))\n",
        "r_list.append(projected_train_features.shape[1])\n",
        "\n",
        "print(acc_list[-1]) \n",
        "print(r_list[-1])"
      ]
    },
    {
      "cell_type": "markdown",
      "metadata": {
        "id": "kqyDGWHz4UyB"
      },
      "source": [
        "## **Apply LDA on dataset with 400 faces and 200 non-faces samples**"
      ]
    },
    {
      "cell_type": "code",
      "execution_count": null,
      "metadata": {
        "id": "0KNTN_HJ4UyC"
      },
      "outputs": [],
      "source": [
        "# slice non-faces dataset\n",
        "d3 = np.concatenate((faces_dataset,non_faces_dataset[0:200]))\n",
        "l3 = labels[0:600]\n",
        "\n",
        "# split into train and test sets \n",
        "train_features, test_features, train_labels, test_labels = split(d3,l3)\n",
        "\n",
        "# get the projection matrix computed using LDA\n",
        "projection_matrix = lda_2(train_features,train_labels)\n",
        "\n",
        "# reshaping the projection matrix\n",
        "projection_matrix=np.reshape(projection_matrix, (10304, 1))\n",
        "\n",
        "# project the train and test sets on the projection matrix\n",
        "projected_train_features = projection(train_features,projection_matrix)\n",
        "projected_test_features = projection(test_features,projection_matrix)\n",
        "\n",
        "# use knn classifier\n",
        "clf = knn(projected_train_features,train_labels,1)\n",
        "\n",
        "# store the results\n",
        "acc_list.append(get_accuracy(clf,projected_test_features,test_labels))\n",
        "\n",
        "print(acc_list[-1]) "
      ]
    },
    {
      "cell_type": "markdown",
      "metadata": {
        "id": "k_HQLkZt4d5x"
      },
      "source": [
        "## **Apply LDA on dataset with 400 faces and 250 non-faces samples**"
      ]
    },
    {
      "cell_type": "code",
      "execution_count": null,
      "metadata": {
        "id": "uW_dBOT74d5x"
      },
      "outputs": [],
      "source": [
        "# slice non-faces dataset\n",
        "d4 = np.concatenate((faces_dataset,non_faces_dataset[0:250]))\n",
        "l4 = labels[0:650]\n",
        "\n",
        "# split into train and test sets \n",
        "train_features, test_features, train_labels, test_labels = split(d4,l4)\n",
        "\n",
        "# get the projection matrix computed using LDA\n",
        "projection_matrix = lda_2(train_features,train_labels)\n",
        "\n",
        "# reshaping the projection matrix\n",
        "projection_matrix=np.reshape(projection_matrix, (10304, 1))\n",
        "\n",
        "# project the train and test sets on the projection matrix\n",
        "projected_train_features = projection(train_features,projection_matrix)\n",
        "projected_test_features = projection(test_features,projection_matrix)\n",
        "\n",
        "# use knn classifier\n",
        "clf = knn(projected_train_features,train_labels,1)\n",
        "\n",
        "# store the results\n",
        "acc_list.append(get_accuracy(clf,projected_test_features,test_labels))\n",
        "\n",
        "print(acc_list[-1]) "
      ]
    },
    {
      "cell_type": "markdown",
      "metadata": {
        "id": "iYnX1p164o5r"
      },
      "source": [
        "## **Apply LDA on dataset with 400 faces and 300 non-faces samples**"
      ]
    },
    {
      "cell_type": "code",
      "execution_count": null,
      "metadata": {
        "id": "wCqq_yVi4o5r"
      },
      "outputs": [],
      "source": [
        "# slice non-faces dataset\n",
        "d5 = np.concatenate((faces_dataset,non_faces_dataset[0:300]))\n",
        "l5 = labels[0:700]\n",
        "\n",
        "# split into train and test sets \n",
        "train_features, test_features, train_labels, test_labels = split(d5,l5)\n",
        "\n",
        "# get the projection matrix computed using LDA\n",
        "projection_matrix = lda_2(train_features,train_labels)\n",
        "\n",
        "# reshaping the projection matrix\n",
        "projection_matrix=np.reshape(projection_matrix, (10304, 1))\n",
        "\n",
        "# project the train and test sets on the projection matrix\n",
        "projected_train_features = projection(train_features,projection_matrix)\n",
        "projected_test_features = projection(test_features,projection_matrix)\n",
        "\n",
        "# use knn classifier\n",
        "clf = knn(projected_train_features,train_labels,1)\n",
        "\n",
        "# store the results\n",
        "acc_list.append(get_accuracy(clf,projected_test_features,test_labels))\n",
        "\n",
        "print(acc_list[-1]) "
      ]
    },
    {
      "cell_type": "markdown",
      "metadata": {
        "id": "eVosQfrB41hL"
      },
      "source": [
        "## **Apply LDA on dataset with 400 faces and 350 non-faces samples**"
      ]
    },
    {
      "cell_type": "code",
      "execution_count": null,
      "metadata": {
        "id": "Nbc0HXUS41hL"
      },
      "outputs": [],
      "source": [
        "# slice non-faces dataset\n",
        "d6 = np.concatenate((faces_dataset,non_faces_dataset[0:350]))\n",
        "l6 = labels[0:750]\n",
        "\n",
        "# split into train and test sets \n",
        "train_features, test_features, train_labels, test_labels = split(d6,l6)\n",
        "\n",
        "# get the projection matrix computed using LDA\n",
        "projection_matrix = lda_2(train_features,train_labels)\n",
        "\n",
        "# reshaping the projection matrix\n",
        "projection_matrix=np.reshape(projection_matrix, (10304, 1))\n",
        "\n",
        "# project the train and test sets on the projection matrix\n",
        "projected_train_features = projection(train_features,projection_matrix)\n",
        "projected_test_features = projection(test_features,projection_matrix)\n",
        "\n",
        "# use knn classifier\n",
        "clf = knn(projected_train_features,train_labels,1)\n",
        "\n",
        "# store the results\n",
        "acc_list.append(get_accuracy(clf,projected_test_features,test_labels))\n",
        "\n",
        "print(acc_list[-1]) "
      ]
    },
    {
      "cell_type": "markdown",
      "metadata": {
        "id": "S3FlC2sa5DRd"
      },
      "source": [
        "## **Apply LDA on dataset with 400 faces and 400 non-faces samples**"
      ]
    },
    {
      "cell_type": "code",
      "execution_count": null,
      "metadata": {
        "id": "MTygwDai5DRi"
      },
      "outputs": [],
      "source": [
        "# slice non-faces dataset\n",
        "d7 = np.concatenate((faces_dataset,non_faces_dataset[0:400]))\n",
        "l7 = labels[0:800]\n",
        "\n",
        "# split into train and test sets \n",
        "train_features, test_features, train_labels, test_labels = split(d7,l7)\n",
        "\n",
        "# get the projection matrix computed using LDA\n",
        "projection_matrix = lda_2(train_features,train_labels)\n",
        "\n",
        "# reshaping the projection matrix\n",
        "projection_matrix=np.reshape(projection_matrix, (10304, 1))\n",
        "\n",
        "# project the train and test sets on the projection matrix\n",
        "projected_train_features = projection(train_features,projection_matrix)\n",
        "projected_test_features = projection(test_features,projection_matrix)\n",
        "\n",
        "# use knn classifier\n",
        "clf = knn(projected_train_features,train_labels,1)\n",
        "\n",
        "# store the results\n",
        "acc_list.append(get_accuracy(clf,projected_test_features,test_labels))\n",
        "\n",
        "print(acc_list[-1]) "
      ]
    },
    {
      "cell_type": "markdown",
      "metadata": {
        "id": "6pKXJHAb5Oyc"
      },
      "source": [
        "## **Apply LDA on dataset with 400 faces and 450 non-faces samples**"
      ]
    },
    {
      "cell_type": "code",
      "execution_count": null,
      "metadata": {
        "id": "PVVaxsni5Oyc"
      },
      "outputs": [],
      "source": [
        "# slice non-faces dataset\n",
        "d8 = np.concatenate((faces_dataset,non_faces_dataset[0:450]))\n",
        "l8 = labels[0:850]\n",
        "\n",
        "# split into train and test sets \n",
        "train_features, test_features, train_labels, test_labels = split(d8,l8)\n",
        "\n",
        "# get the projection matrix computed using LDA\n",
        "projection_matrix = lda_2(train_features,train_labels)\n",
        "\n",
        "# reshaping the projection matrix\n",
        "projection_matrix=np.reshape(projection_matrix, (10304, 1))\n",
        "\n",
        "# project the train and test sets on the projection matrix\n",
        "projected_train_features = projection(train_features,projection_matrix)\n",
        "projected_test_features = projection(test_features,projection_matrix)\n",
        "\n",
        "# use knn classifier\n",
        "clf = knn(projected_train_features,train_labels,1)\n",
        "\n",
        "# store the results\n",
        "acc_list.append(get_accuracy(clf,projected_test_features,test_labels))\n",
        "\n",
        "print(acc_list[-1]) "
      ]
    },
    {
      "cell_type": "markdown",
      "metadata": {
        "id": "3CfTXeWIDZ4K"
      },
      "source": [
        "## **Plot Accuracy vs number of non-faces samples**"
      ]
    },
    {
      "cell_type": "code",
      "execution_count": null,
      "metadata": {
        "id": "j3pc7kN_DXqU"
      },
      "outputs": [],
      "source": [
        "ranges = [100,150,200,250,300,350,400,450]\n",
        "plt.plot(ranges, acc_list[8,16],color='green', linestyle='dashed', linewidth = 3,marker='o', markerfacecolor='blue', markersize=12)\n",
        "plt.xlabel('number of non-faces samples')\n",
        "plt.ylabel('accuracy')\n",
        "plt.show()"
      ]
    },
    {
      "cell_type": "markdown",
      "metadata": {
        "id": "nglQOvKoHm7R"
      },
      "source": [
        "## **Apply PCA and LDA on 400 faces and 400 non-faces samples**"
      ]
    },
    {
      "cell_type": "code",
      "execution_count": null,
      "metadata": {
        "colab": {
          "background_save": true
        },
        "id": "-wnWGLt_H4av"
      },
      "outputs": [],
      "source": [
        "# slice non-faces dataset\n",
        "d = np.concatenate((faces_dataset,non_faces_dataset[0:400]))\n",
        "l = labels[0:800]\n",
        "\n",
        "# split into train and test sets \n",
        "train_features, test_features, train_labels, test_labels = split(d,l)\n",
        "\n",
        "# apply PCA with alpha=0.95\n",
        "projection_matrix_pca = pca(train_features,0.95)\n",
        "\n",
        "# project the train and test sets on the projection matrix\n",
        "projected_train_features_pca = projection(train_features,projection_matrix_pca)\n",
        "projected_test_features_pca = projection(test_features,projection_matrix_pca)\n",
        "\n",
        "# get the projection matrix computed using LDA \n",
        "projection_matrix_lda = lda_2(projected_train_features_pca,train_labels)\n",
        "\n",
        "#reshaping the projection matrix\n",
        "projection_matrix_lda=np.reshape(projection_matrix_lda, (projected_train_features_pca.shape[1], 1))\n",
        "\n",
        "# project the train and test sets on the projection matrix\n",
        "projected_train_features_lda = projection(projected_train_features_pca,projection_matrix_lda)\n",
        "projected_test_features_lda = projection(projected_test_features_pca,projection_matrix_lda)\n",
        "\n",
        "# use knn classifier\n",
        "clf = knn(projected_train_features_lda,train_labels,1)\n",
        "\n",
        "# store the results\n",
        "accuracy = get_accuracy(clf,projected_test_features_lda,test_labels)\n",
        "print(accuracy)"
      ]
    },
    {
      "cell_type": "markdown",
      "metadata": {
        "id": "soTHzcOtbf-B"
      },
      "source": [
        "## **Show failure and success cases**"
      ]
    },
    {
      "cell_type": "code",
      "execution_count": null,
      "metadata": {
        "colab": {
          "background_save": true
        },
        "id": "mp6dNPN6RaBY"
      },
      "outputs": [],
      "source": [
        "def test_image(image_vector,clf):\n",
        "  pred = clf.predict([image_vector])\n",
        "  image_vector = np.reshape(image_vector, (112, 92))\n",
        "  img = im.fromarray(image_vector)\n",
        "  return img, pred"
      ]
    },
    {
      "cell_type": "code",
      "execution_count": null,
      "metadata": {
        "colab": {
          "background_save": true
        },
        "id": "BIYOflCCYeN5"
      },
      "outputs": [],
      "source": [
        "# you may find corrupted images due to resize\n",
        "classifier = knn(train_features,train_labels,1)\n",
        "test = non_faces_dataset[400:450]\n",
        "for x in test:\n",
        "  image, pred = test_image(x,classifier)\n",
        "  display(image)\n",
        "  if pred == [0]:\n",
        "    print(\"Non-Face\")\n",
        "  else:\n",
        "    print(\"Face\")\n",
        "  print(\"----------------------------------------------------\")"
      ]
    }
  ],
  "metadata": {
    "accelerator": "GPU",
    "colab": {
      "collapsed_sections": [],
      "name": "NonFace_Images.ipynb",
      "provenance": [],
      "include_colab_link": true
    },
    "kernelspec": {
      "display_name": "Python 3",
      "name": "python3"
    },
    "language_info": {
      "name": "python"
    }
  },
  "nbformat": 4,
  "nbformat_minor": 0
}