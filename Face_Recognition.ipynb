{
  "cells": [
    {
      "cell_type": "markdown",
      "metadata": {
        "id": "view-in-github",
        "colab_type": "text"
      },
      "source": [
        "<a href=\"https://colab.research.google.com/github/ReemAbdelhaleemHassan/Face-Recognition/blob/main/Face_Recognition.ipynb\" target=\"_parent\"><img src=\"https://colab.research.google.com/assets/colab-badge.svg\" alt=\"Open In Colab\"/></a>"
      ]
    },
    {
      "cell_type": "markdown",
      "metadata": {
        "id": "4YiIt5XoqIks"
      },
      "source": [
        "## **Reading from Google Drive**"
      ]
    },
    {
      "cell_type": "code",
      "execution_count": null,
      "metadata": {
        "id": "kQwbTmvwk-KH"
      },
      "outputs": [],
      "source": [
        "# Code to read file into Colaboratory:\n",
        "! pip install -U -q PyDrive\n",
        "from pydrive.auth import GoogleAuth\n",
        "from pydrive.drive import GoogleDrive\n",
        "from google.colab import auth\n",
        "from oauth2client.client import GoogleCredentials\n",
        "# Authenticate and create the PyDrive client.\n",
        "auth.authenticate_user()\n",
        "gauth = GoogleAuth()\n",
        "gauth.credentials = GoogleCredentials.get_application_default()\n",
        "drive = GoogleDrive(gauth)"
      ]
    },
    {
      "cell_type": "markdown",
      "metadata": {
        "id": "M8RwVbDJlA8H"
      },
      "source": [
        "## **Upload the dataset**"
      ]
    },
    {
      "cell_type": "code",
      "execution_count": null,
      "metadata": {
        "id": "Hl-_3AR0lGi2"
      },
      "outputs": [],
      "source": [
        "# upload CSV file from google drive\n",
        "link = 'https://drive.google.com/file/d/1Mb0WeDv0s1Y3K7f1-3Qp7iFUfFw6K_GF/view?usp=sharing' # The shareable link\n",
        "# to get the id part of the file\n",
        "id = link.split(\"/\")[-2]\n",
        "downloaded = drive.CreateFile({'id':id})\n",
        "downloaded.GetContentFile('archive.zip')"
      ]
    },
    {
      "cell_type": "markdown",
      "metadata": {
        "id": "L7-4kz2olHVG"
      },
      "source": [
        "## **Unzipping**"
      ]
    },
    {
      "cell_type": "code",
      "execution_count": null,
      "metadata": {
        "id": "phn8VpQPqfwZ"
      },
      "outputs": [],
      "source": [
        "! unzip archive.zip -d faces"
      ]
    },
    {
      "cell_type": "markdown",
      "metadata": {
        "id": "Z5q1SabqIPXs"
      },
      "source": [
        "## **Imports**"
      ]
    },
    {
      "cell_type": "code",
      "execution_count": null,
      "metadata": {
        "id": "saMkrRVO3iLs"
      },
      "outputs": [],
      "source": [
        "import numpy as np\n",
        "import cv2 as cv\n",
        "import os\n",
        "#from google.colab.patches import cv2_imshow # for image display\n",
        "#from skimage import io\n",
        "#from PIL import Image \n",
        "import matplotlib.pylab as plt\n",
        "import matplotlib.pyplot as plt1\n",
        "import math\n",
        "from sklearn.neighbors import KNeighborsClassifier\n",
        "from sklearn.metrics import accuracy_score\n",
        "from tabulate import tabulate\n",
        "from prettytable import PrettyTable"
      ]
    },
    {
      "cell_type": "markdown",
      "metadata": {
        "id": "3eoxDfWbIh3E"
      },
      "source": [
        "## **Vectoring the Images**"
      ]
    },
    {
      "cell_type": "code",
      "execution_count": null,
      "metadata": {
        "id": "3ytI9xIACtKf"
      },
      "outputs": [],
      "source": [
        "def vectorizing(imagename):\n",
        "  img=cv.imread(imagename)\n",
        "  result = img[:, :, 0]\n",
        "  img_np = np.asarray(result)\n",
        "  img_np= img_np.flatten()\n",
        "  return img_np"
      ]
    },
    {
      "cell_type": "markdown",
      "metadata": {
        "id": "xen8-vzCIqkz"
      },
      "source": [
        "## **Read the dataset**"
      ]
    },
    {
      "cell_type": "code",
      "execution_count": null,
      "metadata": {
        "id": "Fn8zBzD9BnGn"
      },
      "outputs": [],
      "source": [
        "directory = os.fsencode(\"/content/faces/\")\n",
        "dataset = []\n",
        "for file in sorted(os.listdir(directory)):\n",
        "      filename = os.fsdecode(file)\n",
        "      filename= \"/content/faces/\"+ filename +\"/\"\n",
        "      filenameV= os.fsencode(filename)\n",
        "      for image in os.listdir(filenameV):\n",
        "        imagename = os.fsdecode(image)\n",
        "        imagename= filename+imagename\n",
        "        dataset.append(vectorizing(imagename))\n"
      ]
    },
    {
      "cell_type": "markdown",
      "metadata": {
        "id": "j_IVht2xIzqr"
      },
      "source": [
        "## **Generating the labels vector**"
      ]
    },
    {
      "cell_type": "code",
      "execution_count": null,
      "metadata": {
        "id": "rw_2h-FdF_5G"
      },
      "outputs": [],
      "source": [
        "labels = []\n",
        "for i in range(1,41):\n",
        "  for j in range(10):\n",
        "    labels.append(i)\n"
      ]
    },
    {
      "cell_type": "markdown",
      "metadata": {
        "id": "2LCBB6Q5Jm7r"
      },
      "source": [
        "## **Convert to NumPy**"
      ]
    },
    {
      "cell_type": "code",
      "execution_count": null,
      "metadata": {
        "colab": {
          "base_uri": "https://localhost:8080/"
        },
        "id": "KO4xD-aKJqiK",
        "outputId": "145ad8d9-9b35-4624-91b6-8287533c76e3"
      },
      "outputs": [
        {
          "output_type": "stream",
          "name": "stdout",
          "text": [
            "Length of dataset 400 and type <class 'numpy.ndarray'>\n",
            "Length of labels 400 and type <class 'numpy.ndarray'>\n"
          ]
        }
      ],
      "source": [
        "dataset = np.array(dataset)\n",
        "labels = np.array(labels)\n",
        "print(f\"Length of dataset {len(dataset)} and type {type(dataset)}\")\n",
        "print(f\"Length of labels {len(labels)} and type {type(labels)}\")"
      ]
    },
    {
      "cell_type": "markdown",
      "metadata": {
        "id": "aIfasegvKxJU"
      },
      "source": [
        "## **Dataset Splitting**"
      ]
    },
    {
      "cell_type": "code",
      "execution_count": null,
      "metadata": {
        "id": "yXDTXdGaK4mz"
      },
      "outputs": [],
      "source": [
        "train_features = []\n",
        "train_labels = []\n",
        "\n",
        "test_features = []\n",
        "test_labels = []\n",
        "\n",
        "# even indices for train and odd for test\n",
        "for i in range(0,400,2):\n",
        "  train_features.append(dataset[i])\n",
        "  train_labels.append(labels[i])\n",
        "  test_features.append(dataset[i+1])\n",
        "  test_labels.append(labels[i+1])\n"
      ]
    },
    {
      "cell_type": "markdown",
      "metadata": {
        "id": "klgJuliuNzRq"
      },
      "source": [
        "## **Convert Train and Test sets to NumPy**"
      ]
    },
    {
      "cell_type": "code",
      "execution_count": null,
      "metadata": {
        "colab": {
          "base_uri": "https://localhost:8080/"
        },
        "id": "l3FKFEPLNzai",
        "outputId": "78aa93ba-921f-453c-a317-bca9bef20ebd"
      },
      "outputs": [
        {
          "output_type": "stream",
          "name": "stdout",
          "text": [
            "(200, 10304)\n",
            "-------------------------------------------------\n",
            "(200, 10304)\n"
          ]
        }
      ],
      "source": [
        "train_features = np.array(train_features)\n",
        "train_labels = np.array(train_labels)\n",
        "test_features = np.array(test_features)\n",
        "test_labels = np.array(test_labels)\n",
        "\n",
        "print(train_features.shape)\n",
        "print(\"-------------------------------------------------\")\n",
        "print(test_features.shape)"
      ]
    },
    {
      "cell_type": "markdown",
      "metadata": {
        "id": "U72fvPB4qvKl"
      },
      "source": [
        "## **PCA**"
      ]
    },
    {
      "cell_type": "code",
      "execution_count": null,
      "metadata": {
        "id": "2qWRWk0Tqxeu"
      },
      "outputs": [],
      "source": [
        "def pca(dataset,alpha):\n",
        "  mean=dataset.mean(axis=0)\n",
        "  Z=dataset-mean\n",
        "  cov=np.cov(Z,rowvar=False,bias=False)\n",
        "  eigen_values,eigen_vectors=np.linalg.eigh(cov)\n",
        "  r=0\n",
        "  sum=0.0\n",
        "  n=len(eigen_values)\n",
        "  eigen_values=np.abs(eigen_values)\n",
        "  eigen_values_sum=math.fsum(eigen_values)\n",
        "  ind=(eigen_values.argsort())\n",
        "  sorted_eigenvectors=eigen_vectors[:,ind]\n",
        "  sorted_eigenvalues=eigen_values[ind]\n",
        "  for i in reversed(range(n)):\n",
        "    sum=sum+sorted_eigenvalues[i]\n",
        "    tolerance=float(sum/eigen_values_sum)\n",
        "    if tolerance>=alpha:\n",
        "      r=i\n",
        "      break\n",
        "  P=sorted_eigenvectors[:,r:n]\n",
        "  return P"
      ]
    },
    {
      "cell_type": "markdown",
      "source": [
        "## **Projection**"
      ],
      "metadata": {
        "id": "MY9p60mlbCIv"
      }
    },
    {
      "cell_type": "code",
      "execution_count": null,
      "metadata": {
        "id": "c0tneRJnV0q3"
      },
      "outputs": [],
      "source": [
        "def projection(features,P):\n",
        "  features=features-features.mean(axis=0)\n",
        "  projected_features=np.dot(features,P)\n",
        "  return projected_features"
      ]
    },
    {
      "cell_type": "markdown",
      "metadata": {
        "id": "gMteWMWFu4h-"
      },
      "source": [
        "## **K-NN Classifier**"
      ]
    },
    {
      "cell_type": "code",
      "execution_count": null,
      "metadata": {
        "id": "9LGSzqdrustx"
      },
      "outputs": [],
      "source": [
        "def knn(train_features,train_labels,test_features,test_labels,k):\n",
        "  clf = KNeighborsClassifier(n_neighbors=k)\n",
        "  clf.fit(train_features,train_labels)\n",
        "  predicition  = clf.predict(test_features)\n",
        "  acc = accuracy_score(predicition,test_labels)\n",
        "  return acc"
      ]
    },
    {
      "cell_type": "code",
      "source": [
        "def classifierTuningPCA (alpha,projected_train_features,train_labels,projected_test_features,test_labels,accuracyTable):\n",
        "  accuracies=[]\n",
        "  for k in range (1,8,2):\n",
        "    accuracies.append(knn(projected_train_features,train_labels,projected_test_features,test_labels,k))\n",
        "  accuracyTable.add_row([alpha,accuracies[0],accuracies[1],accuracies[2],accuracies[3]])\n",
        "  return accuracies"
      ],
      "metadata": {
        "id": "_F0fujeGAVmd"
      },
      "execution_count": null,
      "outputs": []
    },
    {
      "cell_type": "markdown",
      "metadata": {
        "id": "yj7rMRWtpaMR"
      },
      "source": [
        "## **Performing PCA on the dataset**"
      ]
    },
    {
      "cell_type": "code",
      "execution_count": null,
      "metadata": {
        "id": "Hru-lJz2Crt2"
      },
      "outputs": [],
      "source": [
        "alphas = [0.8, 0.85, 0.9, 0.95]\n",
        "accuracies=[]\n",
        "r=[]\n",
        "accuracyTable = PrettyTable([\"alpha\\KNN\", \"1\", \"3\", \"5\", \"7\"])\n",
        "accuracies_tuning=[]\n",
        "for i in range(4):\n",
        "  projection_matrix = pca(train_features,alphas[i])\n",
        "  projected_train_features = projection(train_features,projection_matrix)\n",
        "  projected_test_features = projection(test_features,projection_matrix)\n",
        "  accuracies.append(knn(projected_train_features,train_labels,projected_test_features,test_labels,1))\n",
        "  accuracies_tuning.append(classifierTuningPCA(alphas[i],projected_train_features,train_labels,projected_test_features,test_labels,accuracyTable))\n",
        "  r.append(projection_matrix.shape[1])"
      ]
    },
    {
      "cell_type": "markdown",
      "metadata": {
        "id": "dQ6AMemnv8Q1"
      },
      "source": [
        "## **Plotting Relation between Alpha and Accuracy**"
      ]
    },
    {
      "cell_type": "code",
      "execution_count": null,
      "metadata": {
        "colab": {
          "base_uri": "https://localhost:8080/",
          "height": 295
        },
        "id": "aBMXKiMRmFKm",
        "outputId": "47deea16-7882-4639-9372-96613dc4a509"
      },
      "outputs": [
        {
          "output_type": "display_data",
          "data": {
            "text/plain": [
              "<Figure size 432x288 with 1 Axes>"
            ],
            "image/png": "[encoded data removed]"
          },
          "metadata": {
            "needs_background": "light"
          }
        }
      ],
      "source": [
        "plt.plot(alphas, accuracies,color='green', linestyle='dashed', linewidth = 3,\n",
        "         marker='o', markerfacecolor='blue', markersize=12)\n",
        "plt.xlabel('ALPHA')\n",
        "plt.ylabel('ACCURACY')\n",
        "plt.title('ALPHA VS ACCURACY')\n",
        "plt.show()"
      ]
    },
    {
      "cell_type": "markdown",
      "source": [
        "## **Plotting relation between number of vectors used and alphas**"
      ],
      "metadata": {
        "id": "bmRw0yP94tiq"
      }
    },
    {
      "cell_type": "code",
      "source": [
        "plt.plot(alphas, r,color='green', linestyle='dashed', linewidth = 3,\n",
        "         marker='o', markerfacecolor='blue', markersize=12)\n",
        "plt.xlabel('ALPHA')\n",
        "plt.ylabel('Number of vectors')\n",
        "plt.title('R VS ACCURACY')\n",
        "plt.show()"
      ],
      "metadata": {
        "colab": {
          "base_uri": "https://localhost:8080/",
          "height": 295
        },
        "id": "l3dRJdr442tI",
        "outputId": "1b8f3a41-8764-42bf-fa5b-4813b7770220"
      },
      "execution_count": null,
      "outputs": [
        {
          "output_type": "display_data",
          "data": {
            "text/plain": [
              "<Figure size 432x288 with 1 Axes>"
            ],
            "image/png": "[encoded data removed]"
          },
          "metadata": {
            "needs_background": "light"
          }
        }
      ]
    },
    {
      "cell_type": "markdown",
      "metadata": {
        "id": "W_OHDxFQwMAE"
      },
      "source": [
        "## **Classifier Tuning with K=1,3,5,7**"
      ]
    },
    {
      "cell_type": "code",
      "execution_count": null,
      "metadata": {
        "colab": {
          "base_uri": "https://localhost:8080/"
        },
        "id": "Yei4cDLLaDoZ",
        "outputId": "cb7e53ad-9770-41a6-cb52-634470e7878f"
      },
      "outputs": [
        {
          "output_type": "stream",
          "name": "stdout",
          "text": [
            "+-----------+-------+-------+-------+-------+\n",
            "| alpha\\KNN |   1   |   3   |   5   |   7   |\n",
            "+-----------+-------+-------+-------+-------+\n",
            "|    0.8    | 0.905 | 0.885 |  0.82 |  0.8  |\n",
            "|    0.85   | 0.905 |  0.89 | 0.845 | 0.785 |\n",
            "|    0.9    | 0.915 |  0.89 |  0.83 | 0.785 |\n",
            "|    0.95   | 0.925 |  0.89 |  0.82 |  0.77 |\n",
            "+-----------+-------+-------+-------+-------+\n"
          ]
        }
      ],
      "source": [
        "print(accuracyTable)"
      ]
    },
    {
      "cell_type": "markdown",
      "metadata": {
        "id": "6aw0kbbSwjn1"
      },
      "source": [
        "## **Plotting relation between K and accuracy at each alpha**"
      ]
    },
    {
      "cell_type": "code",
      "execution_count": null,
      "metadata": {
        "colab": {
          "base_uri": "https://localhost:8080/",
          "height": 266
        },
        "id": "RSxWWnKqf3Be",
        "outputId": "97f00a57-e525-4216-ffce-1013e3c8e544"
      },
      "outputs": [
        {
          "output_type": "display_data",
          "data": {
            "text/plain": [
              "<Figure size 432x288 with 1 Axes>"
            ],
            "image/png": "[encoded data removed]"
          },
          "metadata": {
            "needs_background": "light"
          }
        }
      ],
      "source": [
        "data = accuracies_tuning\n",
        "columns = ('1', '3', '5', '7')\n",
        "rows = ['0.8', '0.85', '0.9', '0.95']\n",
        "values = np.arange(0, 1, 0.05)\n",
        "# Get some pastel shades for the colors\n",
        "colors = plt.cm.BuPu(np.linspace(0, 0.5, len(rows)))\n",
        "colors = colors[::-1]\n",
        "index = np.arange(len(columns)) + 0.3\n",
        "bar_width = 0.4\n",
        "n_rows = len(data)\n",
        "\n",
        "for row in range(n_rows):\n",
        "    plt.plot(index, data[row], bar_width, color=colors[row])\n",
        "\n",
        "plt.table(cellText=data, rowLabels=rows, rowColours=colors, colLabels=columns, loc='bottom')\n",
        "\n",
        "plt1.subplots_adjust(left=0.25, bottom=0.25)\n",
        "plt1.ylabel(\"\")\n",
        "plt1.yticks(values)\n",
        "plt1.xticks([])\n",
        "plt1.title('')\n",
        "\n",
        "plt1.show()"
      ]
    },
    {
      "cell_type": "markdown",
      "metadata": {
        "id": "J40YqjQYwzUi"
      },
      "source": [
        "--------------------------------------------------------------------------------\n",
        "\n",
        "\n",
        "---\n",
        "\n"
      ]
    },
    {
      "cell_type": "markdown",
      "metadata": {
        "id": "WGpdWg8kw32Q"
      },
      "source": [
        "## **LDA**"
      ]
    },
    {
      "cell_type": "code",
      "source": [
        "def lda(train_features,samples):\n",
        "  Stotal=np.zeros(shape=(train_features.shape[1],train_features.shape[1]))  \n",
        "  overallmean=train_features.mean(axis=0)\n",
        "  sum=np.zeros(shape=(train_features.shape[1],train_features.shape[1]))\n",
        "  for i in range(40):\n",
        "    c=train_features[samples*i:samples*i+samples]\n",
        "    mean=c.mean(axis=0)\n",
        "    c=c-mean\n",
        "    Stotal+=np.dot(c.transpose(),c)\n",
        "    meandiff=(mean-overallmean).reshape(train_features.shape[1], 1)\n",
        "    sum+=samples*np.dot(meandiff,meandiff.T)\n",
        "  eigen_values, eigen_vectors = np.linalg.eigh(np.dot(np.linalg.inv(Stotal),sum))\n",
        "  ind=(np.abs(eigen_values).argsort())\n",
        "  sorted_eigenvectors=eigen_vectors[:,ind]\n",
        "  sorted_eigenvalues=eigen_values[ind]\n",
        "  U=sorted_eigenvectors[:,-39:]\n",
        "  return U"
      ],
      "metadata": {
        "id": "X9ySVMnmCnaK"
      },
      "execution_count": null,
      "outputs": []
    },
    {
      "cell_type": "markdown",
      "source": [
        "## **Performing LDA on the dataset**"
      ],
      "metadata": {
        "id": "3Mc5HznK1uNZ"
      }
    },
    {
      "cell_type": "code",
      "source": [
        "U=lda(train_features,5)\n",
        "projected_train_features_lda=projection(train_features,U)\n",
        "projected_test_features_lda=projection(test_features,U)\n",
        "accuracy=knn(projected_train_features_lda,train_labels,projected_test_features_lda,test_labels,1)\n",
        "print(accuracy)\n",
        "print(U.shape)"
      ],
      "metadata": {
        "id": "reu58yHM1sm7",
        "colab": {
          "base_uri": "https://localhost:8080/"
        },
        "outputId": "bfd76192-5ac2-4983-9444-21a0c9ded753"
      },
      "execution_count": null,
      "outputs": [
        {
          "output_type": "stream",
          "name": "stdout",
          "text": [
            "0.91\n",
            "(10304, 39)\n"
          ]
        }
      ]
    },
    {
      "cell_type": "markdown",
      "source": [
        "## **Classifier tuning for k=1,3,5 and 7**"
      ],
      "metadata": {
        "id": "pG1GIMCXFHjU"
      }
    },
    {
      "cell_type": "code",
      "source": [
        "accuracy=[]\n",
        "k=[1,3,5,7]\n",
        "for K in k:\n",
        "  accuracy.append(knn(projected_train_features_lda,train_labels,projected_test_features_lda,test_labels,K))\n",
        "plt.plot(k, accuracy,color='green', linestyle='dashed', linewidth = 3,\n",
        "         marker='o', markerfacecolor='blue', markersize=12)\n",
        "plt.xlabel('K')\n",
        "plt.ylabel('ACCURACY')\n",
        "plt.title('K VS ACCURACY')\n",
        "plt.show()"
      ],
      "metadata": {
        "colab": {
          "base_uri": "https://localhost:8080/",
          "height": 295
        },
        "id": "r1oiMEBPFT7u",
        "outputId": "e8d1c6fe-e569-4f75-e255-614d98c51b7c"
      },
      "execution_count": null,
      "outputs": [
        {
          "output_type": "display_data",
          "data": {
            "text/plain": [
              "<Figure size 432x288 with 1 Axes>"
            ],
            "image/png": "[encoded data removed]"
          },
          "metadata": {
            "needs_background": "light"
          }
        }
      ]
    },
    {
      "cell_type": "markdown",
      "source": [
        "## **Built-in Sklearn function for checking**"
      ],
      "metadata": {
        "id": "Y0RkevuwKpJ5"
      }
    },
    {
      "cell_type": "code",
      "source": [
        "from sklearn.discriminant_analysis import LinearDiscriminantAnalysis as LDA\n",
        "\n",
        "lda = LDA(n_components=39)\n",
        "X_train = lda.fit_transform(train_features, train_labels)\n",
        "X_test = lda.transform(test_features)\n",
        "acc = knn(X_train,train_labels,X_test,test_labels,1)\n",
        "print(acc)"
      ],
      "metadata": {
        "colab": {
          "base_uri": "https://localhost:8080/"
        },
        "id": "beU-cpUdDeUH",
        "outputId": "79025493-4996-4098-e26e-c62b3041698f"
      },
      "execution_count": null,
      "outputs": [
        {
          "output_type": "stream",
          "name": "stdout",
          "text": [
            "0.94\n"
          ]
        }
      ]
    },
    {
      "cell_type": "markdown",
      "source": [
        "## **Changing Splitting Ratio from 50%-50% to 70%-30%**"
      ],
      "metadata": {
        "id": "-PQ6tlPHKvTC"
      }
    },
    {
      "cell_type": "code",
      "source": [
        "train_features2 = []\n",
        "train_labels2 = []\n",
        "\n",
        "test_features2 = []\n",
        "test_labels2 = []\n",
        "\n",
        "\n",
        "for i in range(0,40):\n",
        "  for j in range(0,7):\n",
        "    train_features2.append(dataset[j+10*i])\n",
        "    train_labels2.append(labels[j+10*i])\n",
        "  for j in range(7,10):\n",
        "    test_features2.append(dataset[j+10*i])\n",
        "    test_labels2.append(labels[j+10*i])\n",
        "\n",
        "train_features2 = np.array(train_features2)\n",
        "train_labels2 = np.array(train_labels2)\n",
        "test_features2 = np.array(test_features2)\n",
        "test_labels2 = np.array(test_labels2)\n",
        "\n",
        "print(train_features2.shape)\n",
        "print(\"-------------------------------------------------\")\n",
        "print(test_features2.shape)"
      ],
      "metadata": {
        "colab": {
          "base_uri": "https://localhost:8080/"
        },
        "id": "MkJVTdoIK5-Q",
        "outputId": "61cccf89-37cd-4cd8-d1a3-817db00fd93f"
      },
      "execution_count": null,
      "outputs": [
        {
          "output_type": "stream",
          "name": "stdout",
          "text": [
            "(280, 10304)\n",
            "-------------------------------------------------\n",
            "(120, 10304)\n"
          ]
        }
      ]
    },
    {
      "cell_type": "markdown",
      "source": [
        "## **Performing PCA on the new data**"
      ],
      "metadata": {
        "id": "OizpI2O_MS-m"
      }
    },
    {
      "cell_type": "code",
      "source": [
        "alphas = [0.8, 0.85, 0.9, 0.95]\n",
        "accuracies=[]\n",
        "r=[]\n",
        "accuracyTable = PrettyTable([\"alpha\\KNN\", \"1\", \"3\", \"5\", \"7\"])\n",
        "accuracies_tuning=[]\n",
        "for i in range(4):\n",
        "  projection_matrix2 = pca(train_features2,alphas[i])\n",
        "  projected_train_features2 = projection(train_features2,projection_matrix)\n",
        "  projected_test_features2 = projection(test_features2,projection_matrix)\n",
        "  accuracies.append(knn(projected_train_features2,train_labels2,projected_test_features2,test_labels2,1))\n",
        "  accuracies_tuning.append(classifierTuningPCA(alphas[i],projected_train_features2,train_labels2,projected_test_features2,test_labels2,accuracyTable))\n",
        "  r.append(projection_matrix.shape[1])"
      ],
      "metadata": {
        "id": "t48TozvoMW9N"
      },
      "execution_count": null,
      "outputs": []
    },
    {
      "cell_type": "markdown",
      "metadata": {
        "id": "41RI678aMjLK"
      },
      "source": [
        "## **Plotting Relation between Alpha and Accuracy**"
      ]
    },
    {
      "cell_type": "code",
      "execution_count": null,
      "metadata": {
        "colab": {
          "base_uri": "https://localhost:8080/",
          "height": 295
        },
        "outputId": "aa1c52e4-9aa6-432c-e334-603572d7f2fc",
        "id": "bA-1FD6tMjLU"
      },
      "outputs": [
        {
          "output_type": "display_data",
          "data": {
            "text/plain": [
              "<Figure size 432x288 with 1 Axes>"
            ],
            "image/png": "[encoded data removed]"
          },
          "metadata": {
            "needs_background": "light"
          }
        }
      ],
      "source": [
        "plt.plot(alphas, accuracies,color='green', linestyle='dashed', linewidth = 3,\n",
        "         marker='o', markerfacecolor='blue', markersize=12)\n",
        "plt.xlabel('ALPHA')\n",
        "plt.ylabel('ACCURACY')\n",
        "plt.title('ALPHA VS ACCURACY')\n",
        "plt.show()"
      ]
    },
    {
      "cell_type": "code",
      "source": [
        "print(r)"
      ],
      "metadata": {
        "colab": {
          "base_uri": "https://localhost:8080/"
        },
        "id": "3gJVbK-4i_Yu",
        "outputId": "0966d36e-5325-4620-a9af-775118b32bee"
      },
      "execution_count": null,
      "outputs": [
        {
          "output_type": "stream",
          "name": "stdout",
          "text": [
            "[118, 118, 118, 118]\n"
          ]
        }
      ]
    },
    {
      "cell_type": "markdown",
      "source": [
        "## **Classifier Tuning**"
      ],
      "metadata": {
        "id": "H9aFk4yvM3fK"
      }
    },
    {
      "cell_type": "code",
      "source": [
        "print(accuracyTable)"
      ],
      "metadata": {
        "colab": {
          "base_uri": "https://localhost:8080/"
        },
        "id": "Sh5GFbYoM_gU",
        "outputId": "8e794eca-82ac-4450-fb04-698636a3142b"
      },
      "execution_count": null,
      "outputs": [
        {
          "output_type": "stream",
          "name": "stdout",
          "text": [
            "+-----------+-------+--------------------+--------------------+--------------------+\n",
            "| alpha\\KNN |   1   |         3          |         5          |         7          |\n",
            "+-----------+-------+--------------------+--------------------+--------------------+\n",
            "|    0.8    | 0.975 | 0.9083333333333333 | 0.8583333333333333 | 0.8083333333333333 |\n",
            "|    0.85   | 0.975 | 0.9083333333333333 | 0.8583333333333333 | 0.8083333333333333 |\n",
            "|    0.9    | 0.975 | 0.9083333333333333 | 0.8583333333333333 | 0.8083333333333333 |\n",
            "|    0.95   | 0.975 | 0.9083333333333333 | 0.8583333333333333 | 0.8083333333333333 |\n",
            "+-----------+-------+--------------------+--------------------+--------------------+\n"
          ]
        }
      ]
    },
    {
      "cell_type": "code",
      "source": [
        "data = accuracies_tuning\n",
        "columns = ('1', '3', '5', '7')\n",
        "rows = ['0.8', '0.85', '0.9', '0.95']\n",
        "values = np.arange(0, 1, 0.05)\n",
        "# Get some pastel shades for the colors\n",
        "colors = plt.cm.BuPu(np.linspace(0, 0.5, len(rows)))\n",
        "colors = colors[::-1]\n",
        "index = np.arange(len(columns)) + 0.3\n",
        "bar_width = 0.4\n",
        "n_rows = len(data)\n",
        "\n",
        "for row in range(n_rows):\n",
        "    plt.plot(index, data[row], bar_width, color=colors[row])\n",
        "\n",
        "plt.table(cellText=data, rowLabels=rows, rowColours=colors, colLabels=columns, loc='bottom')\n",
        "\n",
        "plt1.subplots_adjust(left=0.25, bottom=0.25)\n",
        "plt1.ylabel(\"\")\n",
        "plt1.yticks(values)\n",
        "plt1.xticks([])\n",
        "plt1.title('')\n",
        "\n",
        "plt1.show()"
      ],
      "metadata": {
        "colab": {
          "base_uri": "https://localhost:8080/",
          "height": 262
        },
        "id": "7Lk4ZITVNEb7",
        "outputId": "e7e02162-da18-4faf-8a11-08782656d940"
      },
      "execution_count": null,
      "outputs": [
        {
          "output_type": "display_data",
          "data": {
            "text/plain": [
              "<Figure size 432x288 with 1 Axes>"
            ],
            "image/png": "[encoded data removed]"
          },
          "metadata": {
            "needs_background": "light"
          }
        }
      ]
    },
    {
      "cell_type": "markdown",
      "source": [
        "## **Performing LDA on the new data**"
      ],
      "metadata": {
        "id": "kIkrxqpJNnsM"
      }
    },
    {
      "cell_type": "code",
      "source": [
        "U=lda(train_features2,7)\n",
        "projected_train_features_lda2=projection(train_features2,U)\n",
        "projected_test_features_lda2=projection(test_features2,U)\n",
        "accuracy=knn(projected_train_features_lda2,train_labels2,projected_test_features_lda2,test_labels2,1)\n",
        "print(accuracy)\n",
        "print(U.shape)"
      ],
      "metadata": {
        "colab": {
          "base_uri": "https://localhost:8080/"
        },
        "id": "H34rB5rKNqW9",
        "outputId": "4b49ed21-bda1-431a-9e8d-1a19d1c4a182"
      },
      "execution_count": null,
      "outputs": [
        {
          "output_type": "stream",
          "name": "stdout",
          "text": [
            "0.925\n",
            "(10304, 39)\n"
          ]
        }
      ]
    },
    {
      "cell_type": "markdown",
      "source": [
        "## **Built-in LDA**"
      ],
      "metadata": {
        "id": "ngF8xttbd0oj"
      }
    },
    {
      "cell_type": "code",
      "source": [
        "from sklearn.discriminant_analysis import LinearDiscriminantAnalysis as LDA\n",
        "\n",
        "lda = LDA(n_components=39)\n",
        "X_train2 = lda.fit_transform(train_features2, train_labels2)\n",
        "X_test2 = lda.transform(test_features2)\n",
        "acc = knn(X_train2,train_labels2,X_test2,test_labels2,1)\n",
        "print(acc)"
      ],
      "metadata": {
        "colab": {
          "base_uri": "https://localhost:8080/"
        },
        "id": "7Ztp3VnNd471",
        "outputId": "b0c24c1a-0ec4-46b0-996c-c9ce3219a5fe"
      },
      "execution_count": null,
      "outputs": [
        {
          "output_type": "stream",
          "name": "stdout",
          "text": [
            "0.9666666666666667\n"
          ]
        }
      ]
    },
    {
      "cell_type": "markdown",
      "source": [
        "## **Classifier Tuning**"
      ],
      "metadata": {
        "id": "-1MIluQzNsxs"
      }
    },
    {
      "cell_type": "code",
      "source": [
        "accuracy=[]\n",
        "k=[1,3,5,7]\n",
        "for K in k:\n",
        "  accuracy.append(knn(projected_train_features_lda2,train_labels2,projected_test_features_lda2,test_labels2,K))\n",
        "plt.plot(k, accuracy,color='green', linestyle='dashed', linewidth = 3,\n",
        "         marker='o', markerfacecolor='blue', markersize=12)\n",
        "plt.xlabel('K')\n",
        "plt.ylabel('ACCURACY')\n",
        "plt.title('K VS ACCURACY')\n",
        "plt.show()"
      ],
      "metadata": {
        "colab": {
          "base_uri": "https://localhost:8080/",
          "height": 295
        },
        "id": "ndGrrDhSNvNB",
        "outputId": "d4376dec-1498-488c-9f28-c8f2d4e70679"
      },
      "execution_count": null,
      "outputs": [
        {
          "output_type": "display_data",
          "data": {
            "text/plain": [
              "<Figure size 432x288 with 1 Axes>"
            ],
            "image/png": "[encoded data removed]"
          },
          "metadata": {
            "needs_background": "light"
          }
        }
      ]
    }
  ],
  "metadata": {
    "colab": {
      "collapsed_sections": [
        "gMteWMWFu4h-",
        "dQ6AMemnv8Q1",
        "W_OHDxFQwMAE",
        "6aw0kbbSwjn1"
      ],
      "name": "Face Recognition.ipynb",
      "provenance": [],
      "include_colab_link": true
    },
    "kernelspec": {
      "display_name": "Python 3",
      "name": "python3"
    },
    "language_info": {
      "name": "python"
    }
  },
  "nbformat": 4,
  "nbformat_minor": 0
}